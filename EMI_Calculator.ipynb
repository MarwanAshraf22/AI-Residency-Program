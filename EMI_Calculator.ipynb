{
  "nbformat": 4,
  "nbformat_minor": 0,
  "metadata": {
    "colab": {
      "provenance": []
    },
    "kernelspec": {
      "name": "python3",
      "display_name": "Python 3"
    },
    "language_info": {
      "name": "python"
    }
  },
  "cells": [
    {
      "cell_type": "code",
      "source": [
        "def calculate_emi(amount, duration, rate, down_payment=0):\n",
        "    loan_amount = amount - down_payment\n",
        "    rate = rate / 12 / 100  # Convert annual rate to monthly and percentage to decimal\n",
        "    emi = (loan_amount * rate * ((1 + rate) ** duration)) / (((1 + rate) ** duration) - 1)\n",
        "    return emi\n",
        "\n",
        "amount = float(input(\"Enter the amount: \"))\n",
        "rate = float(input(\"Enter the annual interest rate (%): \"))\n",
        "duration = int(input(\"Enter the time duration in months: \"))\n",
        "down_payment = float(input(\"Enter the down payment amount (if any): \"))\n",
        "\n",
        "emi = calculate_emi(amount, duration, rate, down_payment)\n",
        "print(\"Monthly EMI:\", round(emi, 2))"
      ],
      "metadata": {
        "colab": {
          "base_uri": "https://localhost:8080/"
        },
        "id": "r5qJFafEaZQ4",
        "outputId": "1aefa430-37e1-44e2-cfde-56db2e161e4a"
      },
      "execution_count": 1,
      "outputs": [
        {
          "output_type": "stream",
          "name": "stdout",
          "text": [
            "Enter the amount: 10000\n",
            "Enter the annual interest rate (%): 20\n",
            "Enter the time duration in months: 12\n",
            "Enter the down payment amount (if any): 5000\n",
            "Monthly EMI: 463.17\n"
          ]
        }
      ]
    },
    {
      "cell_type": "code",
      "source": [],
      "metadata": {
        "id": "gq9vfKtJaZTA"
      },
      "execution_count": null,
      "outputs": []
    }
  ]
}